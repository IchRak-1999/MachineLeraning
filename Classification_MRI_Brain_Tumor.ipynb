{
 "cells": [
  {
   "cell_type": "markdown",
   "metadata": {},
   "source": [
    "# Mini-Projet - Classification IRM de Tumeur aux cerveaux\n",
    "\n",
    "L'objectif de ce mini-projet est de classifier des ensembles de données « Tumeurs cérébrales IRM ». Le résultat attendu est la détection ou la non-détection de tumeurs cérébrales sur la base d'un modèle de classification conçu ou modifié à cet effet, avec un taux de détection correct et sa compréhension dans son fonctionnement."
   ]
  },
  {
   "cell_type": "code",
   "execution_count": null,
   "metadata": {
    "vscode": {
     "languageId": "plaintext"
    }
   },
   "outputs": [],
   "source": []
  }
 ],
 "metadata": {
  "language_info": {
   "name": "python"
  }
 },
 "nbformat": 4,
 "nbformat_minor": 2
}
